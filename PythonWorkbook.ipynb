{
 "cells": [
  {
   "cell_type": "markdown",
   "id": "b01029de",
   "metadata": {},
   "source": [
    "# Welcome to the PythonWorkbook\n",
    "\n",
    "## A Playground for practicing basic Python topics\n",
    "\n",
    "Python code snippets created during my learning process. Practice files for training various concepts and challenges from different learning sources.\n"
   ]
  },
  {
   "cell_type": "markdown",
   "id": "60b6ce02",
   "metadata": {},
   "source": [
    "### Built in Datatypes"
   ]
  },
  {
   "cell_type": "code",
   "execution_count": 1,
   "id": "7f303ca0",
   "metadata": {},
   "outputs": [],
   "source": [
    "# Numbers\n",
    "x = 10\n",
    "y = 3.14\n",
    "\n",
    "# Boolean\n",
    "is_cool = True\n",
    "\n",
    "# Strings\n",
    "name = \"Markus Eicher\"\n",
    "\n",
    "# Lists\n",
    "my_list = [1, 2, 3, \"hello\"]\n",
    "\n",
    "# Tuples\n",
    "my_tuple = (\"apple\", \"banana\", \"cherry\")\n",
    "\n",
    "# Sets\n",
    "my_set = {1, 2, 3, 4}\n",
    "\n",
    "# Dictionaries\n",
    "my_dict = {\"name\": \"Markus\", \"age\": 25}\n",
    "\n",
    "# Bytes\n",
    "my_bytes = b\"hello\"\n",
    "\n",
    "# Bytearray\n",
    "my_bytearray = bytearray(b\"world\")\n",
    "\n",
    "# Memoryview\n",
    "my_memoryview = memoryview(my_bytearray)\n",
    "\n",
    "# Complex\n",
    "z = 3 + 5j"
   ]
  },
  {
   "cell_type": "code",
   "execution_count": 2,
   "id": "85880e5e",
   "metadata": {},
   "outputs": [
    {
     "name": "stdout",
     "output_type": "stream",
     "text": [
      "('apple', 'banana', 'cherry')\n"
     ]
    }
   ],
   "source": [
    "print(my_tuple)"
   ]
  }
 ],
 "metadata": {
  "kernelspec": {
   "display_name": "Python 3 (ipykernel)",
   "language": "python",
   "name": "python3"
  },
  "language_info": {
   "codemirror_mode": {
    "name": "ipython",
    "version": 3
   },
   "file_extension": ".py",
   "mimetype": "text/x-python",
   "name": "python",
   "nbconvert_exporter": "python",
   "pygments_lexer": "ipython3",
   "version": "3.11.2"
  }
 },
 "nbformat": 4,
 "nbformat_minor": 5
}
